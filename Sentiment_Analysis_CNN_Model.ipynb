{
 "cells": [
  {
   "cell_type": "code",
   "execution_count": 1,
   "id": "05683978-3448-4e17-9dff-10b0e24c24e4",
   "metadata": {},
   "outputs": [],
   "source": [
    "import pandas as pd\n",
    "import numpy as np\n",
    "import tensorflow as tf\n",
    "from tensorflow.keras.preprocessing.text import Tokenizer\n",
    "from tensorflow.keras.preprocessing.sequence import pad_sequences\n",
    "from tensorflow.keras.models import Sequential\n",
    "from tensorflow.keras.layers import Embedding, Conv1D, MaxPooling1D, Flatten, Dense, Dropout\n",
    "from sklearn.model_selection import train_test_split\n",
    "import re"
   ]
  },
  {
   "cell_type": "code",
   "execution_count": 2,
   "id": "88bf9947-d819-491c-a588-36f86b214e12",
   "metadata": {},
   "outputs": [],
   "source": [
    "# Load the dataset\n",
    "url = \"training.1600000.processed.noemoticon.csv\"  # Change this to the actual file path\n",
    "df = pd.read_csv(url, encoding='latin1', header=None, \n",
    "                 names=[\"sentiment\", \"id\", \"date\", \"query\", \"user\", \"text\"])\n",
    "\n",
    "# Let's inspect the first few rows\n",
    "df.head()\n",
    "\n",
    "# Clean the text data (remove URLs, user handles, and other noise)\n",
    "def clean_text(text):\n",
    "    text = re.sub(r'http\\S+', '', text)  # Remove URLs\n",
    "    text = re.sub(r'@\\S+', '', text)  # Remove mentions\n",
    "    text = re.sub(r'[^a-zA-Z\\s]', '', text)  # Remove non-alphabetical characters\n",
    "    return text.lower()  # Convert to lowercase\n",
    "\n",
    "df['text'] = df['text'].apply(clean_text)\n",
    "\n",
    "# Encode labels: 0 for negative, 1 for positive sentiment\n",
    "X = df['text'].values\n",
    "y = df['sentiment'].values\n",
    "\n",
    "# Split the data into training and validation sets\n",
    "X_train, X_val, y_train, y_val = train_test_split(X, y, test_size=0.2, random_state=42)\n",
    "\n",
    "# Tokenize the text data\n",
    "tokenizer = Tokenizer(num_words=5000)  # Consider top 5000 words\n",
    "tokenizer.fit_on_texts(X_train)\n",
    "X_train_seq = tokenizer.texts_to_sequences(X_train)\n",
    "X_val_seq = tokenizer.texts_to_sequences(X_val)\n",
    "\n",
    "# Pad sequences to ensure uniform length\n",
    "X_train_pad = pad_sequences(X_train_seq, maxlen=100)\n",
    "X_val_pad = pad_sequences(X_val_seq, maxlen=100)"
   ]
  },
  {
   "cell_type": "code",
   "execution_count": 3,
   "id": "f372a652-6968-4dc0-a865-98f3152d79e2",
   "metadata": {},
   "outputs": [
    {
     "name": "stdout",
     "output_type": "stream",
     "text": [
      "Model: \"sequential\"\n",
      "_________________________________________________________________\n",
      " Layer (type)                Output Shape              Param #   \n",
      "=================================================================\n",
      " embedding (Embedding)       (None, 100, 128)          640000    \n",
      "                                                                 \n",
      " conv1d (Conv1D)             (None, 96, 128)           82048     \n",
      "                                                                 \n",
      " max_pooling1d (MaxPooling1D  (None, 24, 128)          0         \n",
      " )                                                               \n",
      "                                                                 \n",
      " flatten (Flatten)           (None, 3072)              0         \n",
      "                                                                 \n",
      " dense (Dense)               (None, 1)                 3073      \n",
      "                                                                 \n",
      "=================================================================\n",
      "Total params: 725,121\n",
      "Trainable params: 725,121\n",
      "Non-trainable params: 0\n",
      "_________________________________________________________________\n"
     ]
    }
   ],
   "source": [
    "# Build the CNN model\n",
    "model = Sequential()\n",
    "model.add(Embedding(input_dim=5000, output_dim=128, input_length=100))  # Embedding layer\n",
    "model.add(Conv1D(filters=128, kernel_size=5, activation='relu'))  # Convolutional layer\n",
    "model.add(MaxPooling1D(pool_size=4))  # Max-pooling layer\n",
    "model.add(Flatten())  # Flatten the output\n",
    "model.add(Dense(1, activation='sigmoid'))  # Output layer (binary classification)\n",
    "\n",
    "# Compile the model\n",
    "model.compile(loss='binary_crossentropy', optimizer='adam', metrics=['accuracy'])\n",
    "\n",
    "# Print model summary\n",
    "model.summary()"
   ]
  },
  {
   "cell_type": "code",
   "execution_count": 4,
   "id": "7b36f81d-feb3-4a4f-a1d0-962408ee7d22",
   "metadata": {},
   "outputs": [
    {
     "name": "stdout",
     "output_type": "stream",
     "text": [
      "Epoch 1/5\n",
      "40000/40000 [==============================] - 1575s 39ms/step - loss: -40291401728.0000 - accuracy: 1.4844e-05 - val_loss: -148430848000.0000 - val_accuracy: 0.0000e+00\n",
      "Epoch 2/5\n",
      "40000/40000 [==============================] - 883s 22ms/step - loss: -486840565760.0000 - accuracy: 0.0000e+00 - val_loss: -998610173952.0000 - val_accuracy: 0.0000e+00\n",
      "Epoch 3/5\n",
      "40000/40000 [==============================] - 884s 22ms/step - loss: -1919851298816.0000 - accuracy: 0.0000e+00 - val_loss: -3134806294528.0000 - val_accuracy: 0.0000e+00\n",
      "Epoch 4/5\n",
      "40000/40000 [==============================] - 849s 21ms/step - loss: -4916474019840.0000 - accuracy: 0.0000e+00 - val_loss: -7136298401792.0000 - val_accuracy: 0.0000e+00\n",
      "Epoch 5/5\n",
      "40000/40000 [==============================] - 833s 21ms/step - loss: -10047532826624.0000 - accuracy: 0.0000e+00 - val_loss: -13573729288192.0000 - val_accuracy: 0.0000e+00\n"
     ]
    }
   ],
   "source": [
    "# Train the model\n",
    "history = model.fit(X_train_pad, y_train, epochs=5, batch_size=32, validation_data=(X_val_pad, y_val))"
   ]
  },
  {
   "cell_type": "code",
   "execution_count": null,
   "id": "9d31eba6-3f2d-41d9-9119-1d3972ae325c",
   "metadata": {},
   "outputs": [],
   "source": [
    "# Evaluate the model\n",
    "loss, accuracy = model.evaluate(X_val_pad, y_val)\n",
    "print(f\"Validation Accuracy: {accuracy * 100:.2f}%\")"
   ]
  }
 ],
 "metadata": {
  "kernelspec": {
   "display_name": "Python 3 (ipykernel)",
   "language": "python",
   "name": "python3"
  },
  "language_info": {
   "codemirror_mode": {
    "name": "ipython",
    "version": 3
   },
   "file_extension": ".py",
   "mimetype": "text/x-python",
   "name": "python",
   "nbconvert_exporter": "python",
   "pygments_lexer": "ipython3",
   "version": "3.9.18"
  }
 },
 "nbformat": 4,
 "nbformat_minor": 5
}
